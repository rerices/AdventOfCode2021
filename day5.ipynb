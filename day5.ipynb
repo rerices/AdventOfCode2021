{
 "cells": [
  {
   "cell_type": "markdown",
   "id": "5982fc5e-0bda-44fc-94da-a6fa622100d5",
   "metadata": {},
   "source": [
    "# Day 5"
   ]
  },
  {
   "cell_type": "code",
   "execution_count": 1,
   "id": "21d7a30e-d2f6-4aef-bae4-99d21b7dff33",
   "metadata": {},
   "outputs": [],
   "source": [
    "with open ('input/input5.txt') as f:\n",
    "    data = [x.rstrip() for x in f.readlines()]"
   ]
  },
  {
   "cell_type": "code",
   "execution_count": 2,
   "id": "88700a66-335c-4545-b95b-86d2ad43fd2b",
   "metadata": {},
   "outputs": [],
   "source": [
    "from collections import Counter\n",
    "from itertools import cycle\n",
    "import re"
   ]
  },
  {
   "cell_type": "code",
   "execution_count": 3,
   "id": "d229b7f1-eff8-431a-b43f-02ebc78ba0fb",
   "metadata": {},
   "outputs": [],
   "source": [
    "def vent_range(x1,y1,x2,y2, diag = False):\n",
    "    rng1 = list(range(x1, x2 + (-1 if x2 < x1 else 1), -1 if x2 < x1 else 1))\n",
    "    rng2 = list(range(y1, y2 + (-1 if y2 < y1 else 1), -1 if y2 < y1 else 1))\n",
    "    if (abs(x2-x1) > 1 and abs(y2-y1) > 1 and not diag):\n",
    "        vent = []\n",
    "    else:\n",
    "        vent = list(zip(rng1, cycle(rng2)) if len(rng1) > len(rng2) else zip(cycle(rng1), rng2))\n",
    "    return vent"
   ]
  },
  {
   "cell_type": "code",
   "execution_count": 4,
   "id": "f0d281d5-937c-40ce-b103-727a35df4e9e",
   "metadata": {},
   "outputs": [
    {
     "data": {
      "text/plain": [
       "19663"
      ]
     },
     "execution_count": 4,
     "metadata": {},
     "output_type": "execute_result"
    }
   ],
   "source": [
    "overlap = Counter()\n",
    "diagonals = True\n",
    "\n",
    "parsed_data = [[int(d) for d in re.findall(r'[\\d]+', line)] for line in data]\n",
    "vents = [list(vent_range(*vent, diagonals)) for vent in parsed_data]\n",
    "for vent in vents: \n",
    "    overlap.update(vent)\n",
    "\n",
    "sum([c >= 2 for c in overlap.values()])"
   ]
  },
  {
   "cell_type": "code",
   "execution_count": null,
   "id": "ab64a9e0-8311-486f-be1e-3dfd7e4ef71b",
   "metadata": {},
   "outputs": [],
   "source": []
  }
 ],
 "metadata": {
  "kernelspec": {
   "display_name": "python3.7",
   "language": "python",
   "name": "python3"
  },
  "language_info": {
   "codemirror_mode": {
    "name": "ipython",
    "version": 3
   },
   "file_extension": ".py",
   "mimetype": "text/x-python",
   "name": "python",
   "nbconvert_exporter": "python",
   "pygments_lexer": "ipython3",
   "version": "3.7.6"
  }
 },
 "nbformat": 4,
 "nbformat_minor": 5
}
