{
 "cells": [
  {
   "cell_type": "code",
   "execution_count": 5,
   "id": "f501558d-c82d-4bcc-b902-9e1ab6feeda1",
   "metadata": {},
   "outputs": [],
   "source": [
    "with open ('input/input9s.txt') as f:\n",
    "    data = [[d for d in x.rstrip()] for x in f.readlines()]"
   ]
  },
  {
   "cell_type": "code",
   "execution_count": 6,
   "id": "4060dbd4-e896-469c-813a-7a7a3831259c",
   "metadata": {},
   "outputs": [
    {
     "data": {
      "text/plain": [
       "[['2', '1', '9', '9', '9', '4', '3', '2', '1', '0'],\n",
       " ['3', '9', '8', '7', '8', '9', '4', '9', '2', '1'],\n",
       " ['9', '8', '5', '6', '7', '8', '9', '8', '9', '2'],\n",
       " ['8', '7', '6', '7', '8', '9', '6', '7', '8', '9'],\n",
       " ['9', '8', '9', '9', '9', '6', '5', '6', '7', '8']]"
      ]
     },
     "execution_count": 6,
     "metadata": {},
     "output_type": "execute_result"
    }
   ],
   "source": [
    "data"
   ]
  },
  {
   "cell_type": "code",
   "execution_count": 77,
   "id": "33023fe4-d13f-4e1f-8024-1a00ea132578",
   "metadata": {},
   "outputs": [],
   "source": [
    "def local_min(x,y):\n",
    "    min_for = 0\n",
    "    value = data[x][y]\n",
    "    for i in (-1,1):\n",
    "        for j in (-1,1):\n",
    "            try:\n",
    "                if (data[x+i][y+j] > value) and (x+i>0 or y+j>0):\n",
    "                    min_for += 1\n",
    "            except:\n",
    "                min_for += 1\n",
    "                \n",
    "    if min_for == 4:\n",
    "        return True\n",
    "    else:\n",
    "        return False"
   ]
  },
  {
   "cell_type": "code",
   "execution_count": 78,
   "id": "fd9d3a1f-20b2-4909-9181-75a18cc0017f",
   "metadata": {},
   "outputs": [],
   "source": [
    "from itertools import product"
   ]
  },
  {
   "cell_type": "code",
   "execution_count": 79,
   "id": "f9d05c1b-bf9f-42aa-b028-3daa3523c07d",
   "metadata": {},
   "outputs": [
    {
     "data": {
      "text/plain": [
       "[(0, 6), (0, 9), (2, 2), (4, 6)]"
      ]
     },
     "execution_count": 79,
     "metadata": {},
     "output_type": "execute_result"
    }
   ],
   "source": [
    "[(i,j) for i,j in product(range(5), range(10)) if local_min(i,j)]"
   ]
  },
  {
   "cell_type": "code",
   "execution_count": 99,
   "id": "14f6506a-8fff-48ab-9973-ab3384427c20",
   "metadata": {},
   "outputs": [
    {
     "name": "stdout",
     "output_type": "stream",
     "text": [
      "check -1 -1\n",
      "-1 1\n",
      "1 -1\n",
      "check 1 1\n"
     ]
    },
    {
     "data": {
      "text/plain": [
       "[True, True, True, True]"
      ]
     },
     "execution_count": 99,
     "metadata": {},
     "output_type": "execute_result"
    }
   ],
   "source": [
    "local_min(0,0)"
   ]
  },
  {
   "cell_type": "code",
   "execution_count": 81,
   "id": "7a14334f-1df8-4544-a8e4-7b987cb3e3fd",
   "metadata": {},
   "outputs": [
    {
     "data": {
      "text/plain": [
       "[['2', '1', '9', '9', '9', '4', '3', '2', '1', '0'],\n",
       " ['3', '9', '8', '7', '8', '9', '4', '9', '2', '1'],\n",
       " ['9', '8', '5', '6', '7', '8', '9', '8', '9', '2'],\n",
       " ['8', '7', '6', '7', '8', '9', '6', '7', '8', '9'],\n",
       " ['9', '8', '9', '9', '9', '6', '5', '6', '7', '8']]"
      ]
     },
     "execution_count": 81,
     "metadata": {},
     "output_type": "execute_result"
    }
   ],
   "source": [
    "data"
   ]
  },
  {
   "cell_type": "code",
   "execution_count": 98,
   "id": "0f1a3270-4c63-4665-8773-90e1feeed603",
   "metadata": {},
   "outputs": [],
   "source": [
    "def local_min(x,y):\n",
    "    v = []\n",
    "    for (i,j) in product((-1,1),(-1,1)):\n",
    "        try:\n",
    "            check = data[x + i][y + j] > data[x][y]\n",
    "            if (x+i)*(y+j) > 0:\n",
    "                v.append(check)\n",
    "                print('check', x+i, y+j)\n",
    "            else:\n",
    "                v.append(True)\n",
    "                print(x+i, y+j)\n",
    "        except:\n",
    "            v.append(True)\n",
    "            print('except', x+i, y+j)\n",
    "                 \n",
    "    return v"
   ]
  },
  {
   "cell_type": "code",
   "execution_count": null,
   "id": "8e3fad17-9e51-4926-94c6-08915ba1127d",
   "metadata": {},
   "outputs": [],
   "source": []
  },
  {
   "cell_type": "code",
   "execution_count": null,
   "id": "6202b73f-acf2-4d78-b952-7f53f4caf2b6",
   "metadata": {},
   "outputs": [],
   "source": []
  }
 ],
 "metadata": {
  "kernelspec": {
   "display_name": "python3.7",
   "language": "python",
   "name": "python3"
  },
  "language_info": {
   "codemirror_mode": {
    "name": "ipython",
    "version": 3
   },
   "file_extension": ".py",
   "mimetype": "text/x-python",
   "name": "python",
   "nbconvert_exporter": "python",
   "pygments_lexer": "ipython3",
   "version": "3.7.6"
  }
 },
 "nbformat": 4,
 "nbformat_minor": 5
}
